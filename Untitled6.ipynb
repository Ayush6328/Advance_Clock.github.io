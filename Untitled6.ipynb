{
  "nbformat": 4,
  "nbformat_minor": 0,
  "metadata": {
    "colab": {
      "name": "Untitled6.ipynb",
      "provenance": [],
      "collapsed_sections": [],
      "authorship_tag": "ABX9TyMH8S6THMRx7St5GFxQgl6D",
      "include_colab_link": true
    },
    "kernelspec": {
      "name": "python3",
      "display_name": "Python 3"
    }
  },
  "cells": [
    {
      "cell_type": "markdown",
      "metadata": {
        "id": "view-in-github",
        "colab_type": "text"
      },
      "source": [
        "<a href=\"https://colab.research.google.com/github/Ayush6328/Advance_Clock.github.io/blob/master/Untitled6.ipynb\" target=\"_parent\"><img src=\"https://colab.research.google.com/assets/colab-badge.svg\" alt=\"Open In Colab\"/></a>"
      ]
    },
    {
      "cell_type": "code",
      "metadata": {
        "id": "xxJkdGoI0plI",
        "colab": {
          "base_uri": "https://localhost:8080/",
          "height": 34
        },
        "outputId": "24590a12-e9dd-42ef-c2c8-f61613024e7c"
      },
      "source": [
        "import tensorflow as tf\n",
        "import matplotlib.pyplot as plt\n",
        "import numpy as np\n",
        "import os,fnmatch\n",
        "import seaborn as sns ; sns.set()\n",
        "from tensorflow.keras.preprocessing.image import ImageDataGenerator\n",
        "import cv2 \n",
        "%matplotlib inline\n",
        "print(tf.__version__)"
      ],
      "execution_count": null,
      "outputs": [
        {
          "output_type": "stream",
          "text": [
            "2.2.0\n"
          ],
          "name": "stdout"
        }
      ]
    },
    {
      "cell_type": "code",
      "metadata": {
        "id": "tyEES5gI1GqT",
        "colab": {
          "base_uri": "https://localhost:8080/",
          "height": 204
        },
        "outputId": "b6855363-2c9c-4eac-fe3c-8f2c8bb32a1a"
      },
      "source": [
        "!wget http://peipa.essex.ac.uk/pix/mias/all-mias.tar.gz"
      ],
      "execution_count": null,
      "outputs": [
        {
          "output_type": "stream",
          "text": [
            "--2020-05-04 08:37:54--  http://peipa.essex.ac.uk/pix/mias/all-mias.tar.gz\n",
            "Resolving peipa.essex.ac.uk (peipa.essex.ac.uk)... 155.245.93.3\n",
            "Connecting to peipa.essex.ac.uk (peipa.essex.ac.uk)|155.245.93.3|:80... connected.\n",
            "HTTP request sent, awaiting response... 200 OK\n",
            "Length: 111154265 (106M) [application/gzip]\n",
            "Saving to: ‘all-mias.tar.gz’\n",
            "\n",
            "all-mias.tar.gz     100%[===================>] 106.00M  11.3MB/s    in 9.9s    \n",
            "\n",
            "2020-05-04 08:38:05 (10.7 MB/s) - ‘all-mias.tar.gz’ saved [111154265/111154265]\n",
            "\n"
          ],
          "name": "stdout"
        }
      ]
    },
    {
      "cell_type": "code",
      "metadata": {
        "id": "8Cdd0th21ezU",
        "colab": {
          "base_uri": "https://localhost:8080/",
          "height": 292
        },
        "outputId": "8673df9f-20d4-49e7-a8fe-13b363707000"
      },
      "source": [
        "!wget https://mynotebook.labarchives.com/attachments/My45MDAwMDAwMDAwMDAwMDA0fDg1NzYyLzMvRW50cnlQYXJ0LzQxNTk4ODc0Nzh8OS44OTk5OTk5OTk5OTk5OTk=/1/original?sf324=343"
      ],
      "execution_count": null,
      "outputs": [
        {
          "output_type": "stream",
          "text": [
            "--2020-05-04 08:38:37--  https://mynotebook.labarchives.com/attachments/My45MDAwMDAwMDAwMDAwMDA0fDg1NzYyLzMvRW50cnlQYXJ0LzQxNTk4ODc0Nzh8OS44OTk5OTk5OTk5OTk5OTk=/1/original?sf324=343\n",
            "Resolving mynotebook.labarchives.com (mynotebook.labarchives.com)... 34.202.226.216, 3.211.29.213\n",
            "Connecting to mynotebook.labarchives.com (mynotebook.labarchives.com)|34.202.226.216|:443... connected.\n",
            "HTTP request sent, awaiting response... 302 Found\n",
            "Location: https://mynotebook.labarchives.com/login [following]\n",
            "--2020-05-04 08:38:37--  https://mynotebook.labarchives.com/login\n",
            "Reusing existing connection to mynotebook.labarchives.com:443.\n",
            "HTTP request sent, awaiting response... 200 OK\n",
            "Length: 27805 (27K) [text/html]\n",
            "Saving to: ‘original?sf324=343’\n",
            "\n",
            "\roriginal?sf324=343    0%[                    ]       0  --.-KB/s               \roriginal?sf324=343  100%[===================>]  27.15K  --.-KB/s    in 0.01s   \n",
            "\n",
            "2020-05-04 08:38:37 (2.04 MB/s) - ‘original?sf324=343’ saved [27805/27805]\n",
            "\n"
          ],
          "name": "stdout"
        }
      ]
    },
    {
      "cell_type": "code",
      "metadata": {
        "id": "5udFMJkW1n7a",
        "colab": {
          "base_uri": "https://localhost:8080/",
          "height": 1000
        },
        "outputId": "cdfdd09e-2bc3-420e-b9d0-9930543fa9aa"
      },
      "source": [
        "!mkdir Images\n",
        "!tar -C Images -zxvf all-mias.tar.gz"
      ],
      "execution_count": null,
      "outputs": [
        {
          "output_type": "stream",
          "text": [
            "Info.txt\n",
            "Licence.txt\n",
            "README\n",
            "mdb001.pgm\n",
            "mdb002.pgm\n",
            "mdb003.pgm\n",
            "mdb004.pgm\n",
            "mdb005.pgm\n",
            "mdb006.pgm\n",
            "mdb007.pgm\n",
            "mdb008.pgm\n",
            "mdb009.pgm\n",
            "mdb010.pgm\n",
            "mdb011.pgm\n",
            "mdb012.pgm\n",
            "mdb013.pgm\n",
            "mdb014.pgm\n",
            "mdb015.pgm\n",
            "mdb016.pgm\n",
            "mdb017.pgm\n",
            "mdb018.pgm\n",
            "mdb019.pgm\n",
            "mdb020.pgm\n",
            "mdb021.pgm\n",
            "mdb022.pgm\n",
            "mdb023.pgm\n",
            "mdb024.pgm\n",
            "mdb025.pgm\n",
            "mdb026.pgm\n",
            "mdb027.pgm\n",
            "mdb028.pgm\n",
            "mdb029.pgm\n",
            "mdb030.pgm\n",
            "mdb031.pgm\n",
            "mdb032.pgm\n",
            "mdb033.pgm\n",
            "mdb034.pgm\n",
            "mdb035.pgm\n",
            "mdb036.pgm\n",
            "mdb037.pgm\n",
            "mdb038.pgm\n",
            "mdb039.pgm\n",
            "mdb040.pgm\n",
            "mdb041.pgm\n",
            "mdb042.pgm\n",
            "mdb043.pgm\n",
            "mdb044.pgm\n",
            "mdb045.pgm\n",
            "mdb046.pgm\n",
            "mdb047.pgm\n",
            "mdb048.pgm\n",
            "mdb049.pgm\n",
            "mdb050.pgm\n",
            "mdb051.pgm\n",
            "mdb052.pgm\n",
            "mdb053.pgm\n",
            "mdb054.pgm\n",
            "mdb055.pgm\n",
            "mdb056.pgm\n",
            "mdb057.pgm\n",
            "mdb058.pgm\n",
            "mdb059.pgm\n",
            "mdb060.pgm\n",
            "mdb061.pgm\n",
            "mdb062.pgm\n",
            "mdb063.pgm\n",
            "mdb064.pgm\n",
            "mdb065.pgm\n",
            "mdb066.pgm\n",
            "mdb067.pgm\n",
            "mdb068.pgm\n",
            "mdb069.pgm\n",
            "mdb070.pgm\n",
            "mdb071.pgm\n",
            "mdb072.pgm\n",
            "mdb073.pgm\n",
            "mdb074.pgm\n",
            "mdb075.pgm\n",
            "mdb076.pgm\n",
            "mdb077.pgm\n",
            "mdb078.pgm\n",
            "mdb079.pgm\n",
            "mdb080.pgm\n",
            "mdb081.pgm\n",
            "mdb082.pgm\n",
            "mdb083.pgm\n",
            "mdb084.pgm\n",
            "mdb085.pgm\n",
            "mdb086.pgm\n",
            "mdb087.pgm\n",
            "mdb088.pgm\n",
            "mdb089.pgm\n",
            "mdb090.pgm\n",
            "mdb091.pgm\n",
            "mdb092.pgm\n",
            "mdb093.pgm\n",
            "mdb094.pgm\n",
            "mdb095.pgm\n",
            "mdb096.pgm\n",
            "mdb097.pgm\n",
            "mdb098.pgm\n",
            "mdb099.pgm\n",
            "mdb100.pgm\n",
            "mdb101.pgm\n",
            "mdb102.pgm\n",
            "mdb103.pgm\n",
            "mdb104.pgm\n",
            "mdb105.pgm\n",
            "mdb106.pgm\n",
            "mdb107.pgm\n",
            "mdb108.pgm\n",
            "mdb109.pgm\n",
            "mdb110.pgm\n",
            "mdb111.pgm\n",
            "mdb112.pgm\n",
            "mdb113.pgm\n",
            "mdb114.pgm\n",
            "mdb115.pgm\n",
            "mdb116.pgm\n",
            "mdb117.pgm\n",
            "mdb118.pgm\n",
            "mdb119.pgm\n",
            "mdb120.pgm\n",
            "mdb121.pgm\n",
            "mdb122.pgm\n",
            "mdb123.pgm\n",
            "mdb124.pgm\n",
            "mdb125.pgm\n",
            "mdb126.pgm\n",
            "mdb127.pgm\n",
            "mdb128.pgm\n",
            "mdb129.pgm\n",
            "mdb130.pgm\n",
            "mdb131.pgm\n",
            "mdb132.pgm\n",
            "mdb133.pgm\n",
            "mdb134.pgm\n",
            "mdb135.pgm\n",
            "mdb136.pgm\n",
            "mdb137.pgm\n",
            "mdb138.pgm\n",
            "mdb139.pgm\n",
            "mdb140.pgm\n",
            "mdb141.pgm\n",
            "mdb142.pgm\n",
            "mdb143.pgm\n",
            "mdb144.pgm\n",
            "mdb145.pgm\n",
            "mdb146.pgm\n",
            "mdb147.pgm\n",
            "mdb148.pgm\n",
            "mdb149.pgm\n",
            "mdb150.pgm\n",
            "mdb151.pgm\n",
            "mdb152.pgm\n",
            "mdb153.pgm\n",
            "mdb154.pgm\n",
            "mdb155.pgm\n",
            "mdb156.pgm\n",
            "mdb157.pgm\n",
            "mdb158.pgm\n",
            "mdb159.pgm\n",
            "mdb160.pgm\n",
            "mdb161.pgm\n",
            "mdb162.pgm\n",
            "mdb163.pgm\n",
            "mdb164.pgm\n",
            "mdb165.pgm\n",
            "mdb166.pgm\n",
            "mdb167.pgm\n",
            "mdb168.pgm\n",
            "mdb169.pgm\n",
            "mdb170.pgm\n",
            "mdb171.pgm\n",
            "mdb172.pgm\n",
            "mdb173.pgm\n",
            "mdb174.pgm\n",
            "mdb175.pgm\n",
            "mdb176.pgm\n",
            "mdb177.pgm\n",
            "mdb178.pgm\n",
            "mdb179.pgm\n",
            "mdb180.pgm\n",
            "mdb181.pgm\n",
            "mdb182.pgm\n",
            "mdb183.pgm\n",
            "mdb184.pgm\n",
            "mdb185.pgm\n",
            "mdb186.pgm\n",
            "mdb187.pgm\n",
            "mdb188.pgm\n",
            "mdb189.pgm\n",
            "mdb190.pgm\n",
            "mdb191.pgm\n",
            "mdb192.pgm\n",
            "mdb193.pgm\n",
            "mdb194.pgm\n",
            "mdb195.pgm\n",
            "mdb196.pgm\n",
            "mdb197.pgm\n",
            "mdb198.pgm\n",
            "mdb199.pgm\n",
            "mdb200.pgm\n",
            "mdb201.pgm\n",
            "mdb202.pgm\n",
            "mdb203.pgm\n",
            "mdb204.pgm\n",
            "mdb205.pgm\n",
            "mdb206.pgm\n",
            "mdb207.pgm\n",
            "mdb208.pgm\n",
            "mdb209.pgm\n",
            "mdb210.pgm\n",
            "mdb211.pgm\n",
            "mdb212.pgm\n",
            "mdb213.pgm\n",
            "mdb214.pgm\n",
            "mdb215.pgm\n",
            "mdb216.pgm\n",
            "mdb217.pgm\n",
            "mdb218.pgm\n",
            "mdb219.pgm\n",
            "mdb220.pgm\n",
            "mdb221.pgm\n",
            "mdb222.pgm\n",
            "mdb223.pgm\n",
            "mdb224.pgm\n",
            "mdb225.pgm\n",
            "mdb226.pgm\n",
            "mdb227.pgm\n",
            "mdb228.pgm\n",
            "mdb229.pgm\n",
            "mdb230.pgm\n",
            "mdb231.pgm\n",
            "mdb232.pgm\n",
            "mdb233.pgm\n",
            "mdb234.pgm\n",
            "mdb235.pgm\n",
            "mdb236.pgm\n",
            "mdb237.pgm\n",
            "mdb238.pgm\n",
            "mdb239.pgm\n",
            "mdb240.pgm\n",
            "mdb241.pgm\n",
            "mdb242.pgm\n",
            "mdb243.pgm\n",
            "mdb244.pgm\n",
            "mdb245.pgm\n",
            "mdb246.pgm\n",
            "mdb247.pgm\n",
            "mdb248.pgm\n",
            "mdb249.pgm\n",
            "mdb250.pgm\n",
            "mdb251.pgm\n",
            "mdb252.pgm\n",
            "mdb253.pgm\n",
            "mdb254.pgm\n",
            "mdb255.pgm\n",
            "mdb256.pgm\n",
            "mdb257.pgm\n",
            "mdb258.pgm\n",
            "mdb259.pgm\n",
            "mdb260.pgm\n",
            "mdb261.pgm\n",
            "mdb262.pgm\n",
            "mdb263.pgm\n",
            "mdb264.pgm\n",
            "mdb265.pgm\n",
            "mdb266.pgm\n",
            "mdb267.pgm\n",
            "mdb268.pgm\n",
            "mdb269.pgm\n",
            "mdb270.pgm\n",
            "mdb271.pgm\n",
            "mdb272.pgm\n",
            "mdb273.pgm\n",
            "mdb274.pgm\n",
            "mdb275.pgm\n",
            "mdb276.pgm\n",
            "mdb277.pgm\n",
            "mdb278.pgm\n",
            "mdb279.pgm\n",
            "mdb280.pgm\n",
            "mdb281.pgm\n",
            "mdb282.pgm\n",
            "mdb283.pgm\n",
            "mdb284.pgm\n",
            "mdb285.pgm\n",
            "mdb286.pgm\n",
            "mdb287.pgm\n",
            "mdb288.pgm\n",
            "mdb289.pgm\n",
            "mdb290.pgm\n",
            "mdb291.pgm\n",
            "mdb292.pgm\n",
            "mdb293.pgm\n",
            "mdb294.pgm\n",
            "mdb295.pgm\n",
            "mdb296.pgm\n",
            "mdb297.pgm\n",
            "mdb298.pgm\n",
            "mdb299.pgm\n",
            "mdb300.pgm\n",
            "mdb301.pgm\n",
            "mdb302.pgm\n",
            "mdb303.pgm\n",
            "mdb304.pgm\n",
            "mdb305.pgm\n",
            "mdb306.pgm\n",
            "mdb307.pgm\n",
            "mdb308.pgm\n",
            "mdb309.pgm\n",
            "mdb310.pgm\n",
            "mdb311.pgm\n",
            "mdb312.pgm\n",
            "mdb313.pgm\n",
            "mdb314.pgm\n",
            "mdb315.pgm\n",
            "mdb316.pgm\n",
            "mdb317.pgm\n",
            "mdb318.pgm\n",
            "mdb319.pgm\n",
            "mdb320.pgm\n",
            "mdb321.pgm\n",
            "mdb322.pgm\n"
          ],
          "name": "stdout"
        }
      ]
    },
    {
      "cell_type": "code",
      "metadata": {
        "id": "h9knPUGF1xIx"
      },
      "source": [
        "#optional (first time)\n",
        "def load_data():\n",
        "    \n",
        "    files = os.listdir(\"Images\")\n",
        "    files.remove(\"Info.txt\")\n",
        "    files.remove(\"Licence.txt\")\n",
        "    files.remove(\"README\")\n",
        "    \n",
        "    os.mkdir(\"Images/train\")\n",
        "    os.mkdir(\"Images/test\")\n",
        "\n",
        "    for i in range(len(files)):\n",
        "      x = cv2.imread(\"Images/\"+files[i])\n",
        "      if(i<round(0.6*len(files))):\n",
        "        cv2.imwrite(\"Images/train/\"+str(i)+\".png\",x)\n",
        "      else:\n",
        "          \n",
        "        cv2.imwrite(\"Images/test/\"+str(i)+\".png\",x)\n",
        "\n",
        "    \n",
        "\n",
        "load_data()"
      ],
      "execution_count": null,
      "outputs": []
    },
    {
      "cell_type": "code",
      "metadata": {
        "id": "p4RTMqjE1-pu"
      },
      "source": [
        "class DataGen:\n",
        "    def __init__(self,path,batch_size,target_size):\n",
        "        self.path = path\n",
        "        self.batch_size = batch_size\n",
        "        self.target_size = target_size\n",
        "        \n",
        "    def getImage(self,imPath):\n",
        "        img = cv2.imread(imPath,0)\n",
        "        return img\n",
        "    \n",
        "    def rescale(self,img):\n",
        "        x = img/255.0\n",
        "        return x\n",
        "    \n",
        "    def resize(self,img):\n",
        "        x = cv2.resize(img,self.target_size,interpolation=cv2.INTER_CUBIC)\n",
        "        x = np.reshape(x,(64,64,1))\n",
        "        return x\n",
        "    \n",
        "    def addNoise(self,img,noise_factor,mu=0,sigma=1):\n",
        "        \n",
        "        \n",
        "        img+= noise_factor*np.random.normal(mu,sigma,size=img.shape) \n",
        "\n",
        "        img = np.clip(img,0.,1.)\n",
        "        return img\n",
        "    def poisson_noise(self,img):\n",
        "      \n",
        "        img+= numpy.random.poisson(img).astype(float)\n",
        "        img = np.clip(img,0.,1.)\n",
        "        return img\n",
        "\n",
        "\n",
        "    def generate(self):\n",
        "        import os\n",
        "        \n",
        "        files = os.listdir(self.path)\n",
        "        while(True):\n",
        "            batch_paths  = np.random.choice(a    = files, \n",
        "                                          size = self.batch_size)\n",
        "            batch_input  = []\n",
        "            batch_output = [] \n",
        "          \n",
        "          # Read in each input, perform preprocessing and get labels\n",
        "            for input_path in batch_paths:\n",
        "                img = self.getImage(self.path+input_path)\n",
        "                img = self.rescale(img)\n",
        "                img = img.astype(np.float)\n",
        "                output = self.resize(img)\n",
        "                img = self.addNoise(img,0.1) # second argument is p  in paper for gaussian noise\n",
        "                img = self.resize(img)\n",
        "                batch_input += [ img ]\n",
        "                batch_output += [ output ]\n",
        "          # Return a tuple of (input, output) to feed the network\n",
        "            batch_x = np.array( batch_input )\n",
        "            batch_y = np.array( batch_output )\n",
        "        \n",
        "            yield batch_x, batch_y"
      ],
      "execution_count": null,
      "outputs": []
    },
    {
      "cell_type": "code",
      "metadata": {
        "id": "rk5ABuO-2dPh"
      },
      "source": [
        "\n",
        "# (Important) split all images in folder \"Images\" in 60-40 percent as 60% images in \"Images/train\" folder and 40% in \"Images/test\" folder \n",
        "train = DataGen(\"Images/train/\",16,(64,64))"
      ],
      "execution_count": null,
      "outputs": []
    },
    {
      "cell_type": "code",
      "metadata": {
        "id": "AbRBT_W-2ivf"
      },
      "source": [
        "train_gen = train.generate() # training set generator\n"
      ],
      "execution_count": null,
      "outputs": []
    },
    {
      "cell_type": "code",
      "metadata": {
        "id": "IdHKQFQK2n0w"
      },
      "source": [
        "test = DataGen(\"Images/test/\",10,(64,64))\n"
      ],
      "execution_count": null,
      "outputs": []
    },
    {
      "cell_type": "code",
      "metadata": {
        "id": "9afraGBb2rUq"
      },
      "source": [
        "test_gen = test.generate() # test set generator\n"
      ],
      "execution_count": null,
      "outputs": []
    },
    {
      "cell_type": "code",
      "metadata": {
        "id": "HH6thMiB2vTw"
      },
      "source": [
        "\n",
        "class callback(tf.keras.callbacks.Callback):\n",
        "    def on_epoch_end(self, epoch, logs={}):\n",
        "        if logs.get('loss')<0.23 and logs.get('val_loss')<0.23:\n",
        "            print(\"\\n Stopping training .....\\n\")\n",
        "            self.model.stop_training=True\n"
      ],
      "execution_count": null,
      "outputs": []
    },
    {
      "cell_type": "code",
      "metadata": {
        "id": "iitaB7rF20gK"
      },
      "source": [
        "myCallback = callback()\n"
      ],
      "execution_count": null,
      "outputs": []
    },
    {
      "cell_type": "code",
      "metadata": {
        "id": "4ZV_0hut24hO"
      },
      "source": [
        "autoencoder = tf.keras.models.Sequential([\n",
        "    \n",
        "    tf.keras.layers.Conv2D(64,(3,3),input_shape=(64,64,1),activation=\"relu\",padding=\"same\",data_format=\"channels_last\"),\n",
        " \n",
        "    tf.keras.layers.MaxPool2D(padding=\"same\"),\n",
        " \n",
        "    tf.keras.layers.Conv2D(64,(3,3),activation=\"relu\",padding=\"same\"),\n",
        " \n",
        "    tf.keras.layers.MaxPool2D(padding=\"same\"),\n",
        " \n",
        "    tf.keras.layers.Conv2D(64,(3,3),activation=\"relu\",padding=\"same\"),\n",
        " \n",
        "    tf.keras.layers.UpSampling2D(),\n",
        "    tf.keras.layers.Conv2D(64,(3,3),activation=\"relu\",padding=\"same\"),\n",
        " \n",
        "    tf.keras.layers.UpSampling2D(),\n",
        "    tf.keras.layers.Conv2D(1,(3,3),activation=\"sigmoid\",padding=\"same\")\n",
        "    \n",
        "    \n",
        "  ])"
      ],
      "execution_count": null,
      "outputs": []
    },
    {
      "cell_type": "code",
      "metadata": {
        "id": "syMPma_p29Dh",
        "colab": {
          "base_uri": "https://localhost:8080/",
          "height": 459
        },
        "outputId": "559bbea3-bfd4-4cb9-aa46-c594bac0f159"
      },
      "source": [
        "autoencoder.summary()"
      ],
      "execution_count": null,
      "outputs": [
        {
          "output_type": "stream",
          "text": [
            "Model: \"sequential\"\n",
            "_________________________________________________________________\n",
            "Layer (type)                 Output Shape              Param #   \n",
            "=================================================================\n",
            "conv2d (Conv2D)              (None, 64, 64, 64)        640       \n",
            "_________________________________________________________________\n",
            "max_pooling2d (MaxPooling2D) (None, 32, 32, 64)        0         \n",
            "_________________________________________________________________\n",
            "conv2d_1 (Conv2D)            (None, 32, 32, 64)        36928     \n",
            "_________________________________________________________________\n",
            "max_pooling2d_1 (MaxPooling2 (None, 16, 16, 64)        0         \n",
            "_________________________________________________________________\n",
            "conv2d_2 (Conv2D)            (None, 16, 16, 64)        36928     \n",
            "_________________________________________________________________\n",
            "up_sampling2d (UpSampling2D) (None, 32, 32, 64)        0         \n",
            "_________________________________________________________________\n",
            "conv2d_3 (Conv2D)            (None, 32, 32, 64)        36928     \n",
            "_________________________________________________________________\n",
            "up_sampling2d_1 (UpSampling2 (None, 64, 64, 64)        0         \n",
            "_________________________________________________________________\n",
            "conv2d_4 (Conv2D)            (None, 64, 64, 1)         577       \n",
            "=================================================================\n",
            "Total params: 112,001\n",
            "Trainable params: 112,001\n",
            "Non-trainable params: 0\n",
            "_________________________________________________________________\n"
          ],
          "name": "stdout"
        }
      ]
    },
    {
      "cell_type": "code",
      "metadata": {
        "id": "GvTDIXjU3B_P"
      },
      "source": [
        "autoencoder.compile(optimizer='adam', loss=\"binary_crossentropy\",metrics = ['accuracy'])"
      ],
      "execution_count": null,
      "outputs": []
    },
    {
      "cell_type": "code",
      "metadata": {
        "id": "6y4PnyHp3Fnh",
        "colab": {
          "base_uri": "https://localhost:8080/",
          "height": 428
        },
        "outputId": "31a8f3c9-c905-4de9-d2c6-e0799f734669"
      },
      "source": [
        "# let it run upto 10 epochs\n",
        "hist = autoencoder.fit_generator(train_gen,epochs=10,steps_per_epoch=16,validation_data=test_gen,validation_steps=10,callbacks=[myCallback])"
      ],
      "execution_count": null,
      "outputs": [
        {
          "output_type": "stream",
          "text": [
            "WARNING:tensorflow:From <ipython-input-16-aecacccd02ec>:1: Model.fit_generator (from tensorflow.python.keras.engine.training) is deprecated and will be removed in a future version.\n",
            "Instructions for updating:\n",
            "Please use Model.fit, which supports generators.\n",
            "Epoch 1/10\n",
            "16/16 [==============================] - 33s 2s/step - loss: 0.4920 - accuracy: 0.4557 - val_loss: 0.2923 - val_accuracy: 0.4760\n",
            "Epoch 2/10\n",
            "16/16 [==============================] - 33s 2s/step - loss: 0.3097 - accuracy: 0.4385 - val_loss: 0.2583 - val_accuracy: 0.5111\n",
            "Epoch 3/10\n",
            "16/16 [==============================] - 33s 2s/step - loss: 0.2781 - accuracy: 0.4693 - val_loss: 0.2546 - val_accuracy: 0.5032\n",
            "Epoch 4/10\n",
            "16/16 [==============================] - 33s 2s/step - loss: 0.2691 - accuracy: 0.4641 - val_loss: 0.2457 - val_accuracy: 0.5011\n",
            "Epoch 5/10\n",
            "16/16 [==============================] - 33s 2s/step - loss: 0.2707 - accuracy: 0.4595 - val_loss: 0.2446 - val_accuracy: 0.5020\n",
            "Epoch 6/10\n",
            "16/16 [==============================] - 33s 2s/step - loss: 0.2603 - accuracy: 0.4696 - val_loss: 0.2405 - val_accuracy: 0.4932\n",
            "Epoch 7/10\n",
            "16/16 [==============================] - 33s 2s/step - loss: 0.2558 - accuracy: 0.4753 - val_loss: 0.2359 - val_accuracy: 0.5125\n",
            "Epoch 8/10\n",
            "16/16 [==============================] - 33s 2s/step - loss: 0.2548 - accuracy: 0.4696 - val_loss: 0.2512 - val_accuracy: 0.4790\n",
            "Epoch 9/10\n",
            "16/16 [==============================] - 33s 2s/step - loss: 0.2605 - accuracy: 0.4623 - val_loss: 0.2408 - val_accuracy: 0.5031\n",
            "Epoch 10/10\n",
            "16/16 [==============================] - 33s 2s/step - loss: 0.2588 - accuracy: 0.4614 - val_loss: 0.2413 - val_accuracy: 0.4933\n"
          ],
          "name": "stdout"
        }
      ]
    },
    {
      "cell_type": "code",
      "metadata": {
        "id": "22zyyVc74duR",
        "colab": {
          "base_uri": "https://localhost:8080/",
          "height": 285
        },
        "outputId": "bae4e0b0-325f-4918-97c5-3af2c28e3317"
      },
      "source": [
        "plt.ylabel(\"Loss\")\n",
        "plt.xlabel(\"epochs\")\n",
        "\n",
        "plt.plot(hist.history[\"loss\"],label=\"Training Loss\")\n",
        "plt.plot(hist.history[\"val_loss\"],label=\"Validation Loss\")\n",
        "plt.legend()\n",
        "plt.show()"
      ],
      "execution_count": null,
      "outputs": [
        {
          "output_type": "display_data",
          "data": {
            "image/png": "[encoded data removed]",
            "text/plain": [
              "<Figure size 432x288 with 1 Axes>"
            ]
          },
          "metadata": {
            "tags": [],
            "needs_background": "light"
          }
        }
      ]
    },
    {
      "cell_type": "code",
      "metadata": {
        "id": "TqX0Nnwn4jn5"
      },
      "source": [
        "from mpl_toolkits.axes_grid1 import ImageGrid\n"
      ],
      "execution_count": null,
      "outputs": []
    },
    {
      "cell_type": "code",
      "metadata": {
        "id": "jRTC0qwp4n2d"
      },
      "source": [
        "r,t = next(test_gen) # sample"
      ],
      "execution_count": null,
      "outputs": []
    },
    {
      "cell_type": "code",
      "metadata": {
        "id": "tA8hhkcM4rQz"
      },
      "source": [
        "z = autoencoder.predict(r) # predicted result\n"
      ],
      "execution_count": null,
      "outputs": []
    },
    {
      "cell_type": "code",
      "metadata": {
        "id": "DHlaY3uo4u3O",
        "colab": {
          "base_uri": "https://localhost:8080/",
          "height": 34
        },
        "outputId": "f772662c-7212-417d-9c3e-101740b4571d"
      },
      "source": [
        "z.shape\n"
      ],
      "execution_count": null,
      "outputs": [
        {
          "output_type": "execute_result",
          "data": {
            "text/plain": [
              "(10, 64, 64, 1)"
            ]
          },
          "metadata": {
            "tags": []
          },
          "execution_count": 21
        }
      ]
    },
    {
      "cell_type": "code",
      "metadata": {
        "id": "BM4UzyGn4ziK",
        "colab": {
          "base_uri": "https://localhost:8080/",
          "height": 495
        },
        "outputId": "b74e3c67-9989-446b-fbd5-eeb007697f35"
      },
      "source": [
        "img1 = r[0][:,:,0]\n",
        "img2 = r[1][:,:,0]\n",
        "img3 = r[2][:,:,0]\n",
        "img4 = r[3][:,:,0]\n",
        "img5 = r[4][:,:,0]\n",
        "\n",
        "den_img1 = z[0][:,:,0]*255.\n",
        "den_img2 = z[1][:,:,0]*255.\n",
        "den_img3 = z[2][:,:,0]*255.\n",
        "den_img4 = z[3][:,:,0]*255.\n",
        "den_img5 = z[4][:,:,0]*255.\n",
        "\n",
        "\n",
        "fig = plt.figure(figsize=(20., 10.))\n",
        "grid = ImageGrid(fig, 111,  # similar to subplot(111)\n",
        "                 nrows_ncols=(2, 5),  # creates 2x5 grid of axes\n",
        "                 axes_pad=0.1,  # pad between axes in inch.\n",
        "                 )\n",
        "\n",
        "for ax, im in zip(grid, [img1,img2,img3,img4,img5,den_img1,den_img2,den_img3,den_img4,den_img5]):\n",
        "    # Iterating over the grid returns the Axes.\n",
        "    ax.imshow(im,cmap=\"gray\")\n",
        "\n",
        "plt.show()"
      ],
      "execution_count": null,
      "outputs": [
        {
          "output_type": "display_data",
          "data": {
            "image/png": "[encoded data removed]",
            "text/plain": [
              "<Figure size 1440x720 with 20 Axes>"
            ]
          },
          "metadata": {
            "tags": [],
            "needs_background": "light"
          }
        }
      ]
    },
    {
      "cell_type": "code",
      "metadata": {
        "id": "fwuDsWe-5tcx",
        "colab": {
          "base_uri": "https://localhost:8080/",
          "height": 88
        },
        "outputId": "09c3faa8-4513-46d9-bdd5-6f83425eac72"
      },
      "source": [
        "from skimage.measure import compare_ssim as ssim\n",
        "\n",
        "def get_ssim_result(originalSet,noisySet):\n",
        "    ssim_sum = 0\n",
        "    originalSet = originalSet.reshape(originalSet.shape[0],64, 64, 1)\n",
        "    noisySet = noisySet.reshape(noisySet.shape[0],64, 64, 1)\n",
        "    for i in range(originalSet.shape[0]):\n",
        "        ssim_sum += ssim(originalSet[i], noisySet[i],data_range=originalSet[i].max() - noisySet[i].min(), multichannel=True)\n",
        "    return 1.0*ssim_sum/originalSet.shape[0]\n",
        "get_ssim_result(r, z)"
      ],
      "execution_count": null,
      "outputs": [
        {
          "output_type": "stream",
          "text": [
            "/usr/local/lib/python3.6/dist-packages/ipykernel_launcher.py:8: UserWarning: DEPRECATED: skimage.measure.compare_ssim has been moved to skimage.metrics.structural_similarity. It will be removed from skimage.measure in version 0.18.\n",
            "  \n"
          ],
          "name": "stderr"
        },
        {
          "output_type": "execute_result",
          "data": {
            "text/plain": [
              "0.381293452151188"
            ]
          },
          "metadata": {
            "tags": []
          },
          "execution_count": 23
        }
      ]
    }
  ]
}